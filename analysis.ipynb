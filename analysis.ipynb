{
 "cells": [
  {
   "cell_type": "code",
   "execution_count": 47,
   "metadata": {},
   "outputs": [],
   "source": [
    "import pandas as pd"
   ]
  },
  {
   "cell_type": "code",
   "execution_count": 48,
   "metadata": {},
   "outputs": [],
   "source": [
    "df = pd.read_csv(\"/home/alena/repos/scimagojr/scimagojr_full_2020-03-31.csv\", sep=\";\")\n",
    "df.drop(['Sourceid', 'Issn', 'SJR',\n",
    " 'H index', 'Total Docs. (2018)', 'Total Docs. (3years)', 'Total Refs.',\n",
    " 'Total Cites (3years)', 'Citable Docs. (3years)', 'Cites / Doc. (2years)',\n",
    " 'Ref. / Doc.', 'Country', 'Publisher', 'Coverage', 'Categories'], axis=1, inplace=True)"
   ]
  },
  {
   "cell_type": "code",
   "execution_count": 49,
   "metadata": {},
   "outputs": [
    {
     "output_type": "stream",
     "name": "stdout",
     "text": "['Unnamed: 0' 'Rank' 'Title' 'Type' 'SJR Quartile' 'Area']\n"
    },
    {
     "output_type": "execute_result",
     "data": {
      "text/plain": "       Unnamed: 0  Rank                                              Title  \\\n3000          492   493  Proceedings - 2016 International Conference La...   \n11257         117   118  Journal of the Urban Planning and Development ...   \n70869          29    30                Child Language Teaching and Therapy   \n46880          89    90  2015 IEEE 31st International Conference on Sof...   \n13895         174   175  MTD 2016 - Proceedings of the 2016 ACM Worksho...   \n31521          38    39                                Cancer Epidemiology   \n12205          93    94  ASDAM 2016 - Conference Proceedings, 11th Inte...   \n60645         142   143                 Inorganic and Nano-Metal Chemistry   \n5017          722   723  2015 54th Annual Conference of the Society of ...   \n14394         673   674  Proceedings - 2015 4th International Workshop ...   \n\n                             Type SJR Quartile  \\\n3000   conference and proceedings            -   \n11257                     journal           Q2   \n70869                     journal           Q3   \n46880  conference and proceedings            -   \n13895  conference and proceedings            -   \n31521                     journal           Q2   \n12205  conference and proceedings            -   \n60645                     journal           Q4   \n5017   conference and proceedings            -   \n14394  conference and proceedings            -   \n\n                                             Area  \n3000                          Applied Mathematics  \n11257            Civil and Structural Engineering  \n70869                          Speech and Hearing  \n46880  Management Science and Operations Research  \n13895        Computer Networks and Communications  \n31521                                Epidemiology  \n12205                      Cognitive Neuroscience  \n60645          Physical and Theoretical Chemistry  \n5017                      Artificial Intelligence  \n14394        Computer Networks and Communications  ",
      "text/html": "<div>\n<style scoped>\n    .dataframe tbody tr th:only-of-type {\n        vertical-align: middle;\n    }\n\n    .dataframe tbody tr th {\n        vertical-align: top;\n    }\n\n    .dataframe thead th {\n        text-align: right;\n    }\n</style>\n<table border=\"1\" class=\"dataframe\">\n  <thead>\n    <tr style=\"text-align: right;\">\n      <th></th>\n      <th>Unnamed: 0</th>\n      <th>Rank</th>\n      <th>Title</th>\n      <th>Type</th>\n      <th>SJR Quartile</th>\n      <th>Area</th>\n    </tr>\n  </thead>\n  <tbody>\n    <tr>\n      <th>3000</th>\n      <td>492</td>\n      <td>493</td>\n      <td>Proceedings - 2016 International Conference La...</td>\n      <td>conference and proceedings</td>\n      <td>-</td>\n      <td>Applied Mathematics</td>\n    </tr>\n    <tr>\n      <th>11257</th>\n      <td>117</td>\n      <td>118</td>\n      <td>Journal of the Urban Planning and Development ...</td>\n      <td>journal</td>\n      <td>Q2</td>\n      <td>Civil and Structural Engineering</td>\n    </tr>\n    <tr>\n      <th>70869</th>\n      <td>29</td>\n      <td>30</td>\n      <td>Child Language Teaching and Therapy</td>\n      <td>journal</td>\n      <td>Q3</td>\n      <td>Speech and Hearing</td>\n    </tr>\n    <tr>\n      <th>46880</th>\n      <td>89</td>\n      <td>90</td>\n      <td>2015 IEEE 31st International Conference on Sof...</td>\n      <td>conference and proceedings</td>\n      <td>-</td>\n      <td>Management Science and Operations Research</td>\n    </tr>\n    <tr>\n      <th>13895</th>\n      <td>174</td>\n      <td>175</td>\n      <td>MTD 2016 - Proceedings of the 2016 ACM Worksho...</td>\n      <td>conference and proceedings</td>\n      <td>-</td>\n      <td>Computer Networks and Communications</td>\n    </tr>\n    <tr>\n      <th>31521</th>\n      <td>38</td>\n      <td>39</td>\n      <td>Cancer Epidemiology</td>\n      <td>journal</td>\n      <td>Q2</td>\n      <td>Epidemiology</td>\n    </tr>\n    <tr>\n      <th>12205</th>\n      <td>93</td>\n      <td>94</td>\n      <td>ASDAM 2016 - Conference Proceedings, 11th Inte...</td>\n      <td>conference and proceedings</td>\n      <td>-</td>\n      <td>Cognitive Neuroscience</td>\n    </tr>\n    <tr>\n      <th>60645</th>\n      <td>142</td>\n      <td>143</td>\n      <td>Inorganic and Nano-Metal Chemistry</td>\n      <td>journal</td>\n      <td>Q4</td>\n      <td>Physical and Theoretical Chemistry</td>\n    </tr>\n    <tr>\n      <th>5017</th>\n      <td>722</td>\n      <td>723</td>\n      <td>2015 54th Annual Conference of the Society of ...</td>\n      <td>conference and proceedings</td>\n      <td>-</td>\n      <td>Artificial Intelligence</td>\n    </tr>\n    <tr>\n      <th>14394</th>\n      <td>673</td>\n      <td>674</td>\n      <td>Proceedings - 2015 4th International Workshop ...</td>\n      <td>conference and proceedings</td>\n      <td>-</td>\n      <td>Computer Networks and Communications</td>\n    </tr>\n  </tbody>\n</table>\n</div>"
     },
     "metadata": {},
     "execution_count": 49
    }
   ],
   "source": [
    "print(df.columns.values)\n",
    "df.sample(10)"
   ]
  },
  {
   "cell_type": "code",
   "execution_count": 50,
   "metadata": {},
   "outputs": [],
   "source": [
    "df_cs = df.loc[df['Area'].str.contains('computer science', case = False, regex = False) & (df['SJR Quartile'].str.contains('Q1|Q2'))]\n",
    "# df_ling = df.loc[df['Area'].str.contains('linguistics', case = False, regex = False) & (df['SJR Quartile'].str.contains('Q1|Q2'))]\n",
    "df_ling = df.loc[df['Area'].str.contains('linguistics', case = False, regex = False)]"
   ]
  },
  {
   "cell_type": "code",
   "execution_count": 51,
   "metadata": {},
   "outputs": [],
   "source": [
    "s1 = pd.merge(df_cs, df_ling, how='inner', on=['Title'])"
   ]
  },
  {
   "cell_type": "code",
   "execution_count": 52,
   "metadata": {},
   "outputs": [
    {
     "output_type": "execute_result",
     "data": {
      "text/plain": "    Unnamed: 0_x  Rank_x                                              Title  \\\n0             53      54                Computer Assisted Language Learning   \n1             53      54                Computer Assisted Language Learning   \n2             68      69                   Language Learning and Technology   \n3             68      69                   Language Learning and Technology   \n4             80      81                                             ReCALL   \n5             80      81                                             ReCALL   \n6            210     211  Synthesis Lectures on Human Language Technologies   \n7            263     264                               Speech Communication   \n8            263     264                               Speech Communication   \n9            296     297                          Computational Linguistics   \n10           296     297                          Computational Linguistics   \n11           311     312                           Argument and Computation   \n12            55      56                          Computers and Composition   \n13            55      56                          Computers and Composition   \n14            58      59                                   Applied Ontology   \n15            58      59                                   Applied Ontology   \n16           107     108         Journal of Logic, Language and Information   \n\n         Type_x SJR Quartile_x                            Area_x  \\\n0       journal             Q1     Computer Science Applications   \n1       journal             Q1     Computer Science Applications   \n2       journal             Q1     Computer Science Applications   \n3       journal             Q1     Computer Science Applications   \n4       journal             Q1     Computer Science Applications   \n5       journal             Q1     Computer Science Applications   \n6   book series             Q2     Computer Science Applications   \n7       journal             Q2     Computer Science Applications   \n8       journal             Q2     Computer Science Applications   \n9       journal             Q2     Computer Science Applications   \n10      journal             Q2     Computer Science Applications   \n11      journal             Q2     Computer Science Applications   \n12      journal             Q1  Computer Science (miscellaneous)   \n13      journal             Q1  Computer Science (miscellaneous)   \n14      journal             Q1  Computer Science (miscellaneous)   \n15      journal             Q1  Computer Science (miscellaneous)   \n16      journal             Q2  Computer Science (miscellaneous)   \n\n    Unnamed: 0_y  Rank_y       Type_y SJR Quartile_y                    Area_y  \n0             22      23      journal             Q1  Language and Linguistics  \n1             26      27      journal             Q1  Linguistics and Language  \n2             28      29      journal             Q1  Language and Linguistics  \n3             31      32      journal             Q1  Linguistics and Language  \n4             34      35      journal             Q1  Language and Linguistics  \n5             40      41      journal             Q1  Linguistics and Language  \n6            119     120  book series             Q1  Linguistics and Language  \n7            127     128      journal             Q1  Language and Linguistics  \n8            139     140      journal             Q1  Linguistics and Language  \n9            137     138      journal             Q1  Language and Linguistics  \n10           149     150      journal             Q1  Linguistics and Language  \n11           156     157      journal             Q1  Linguistics and Language  \n12           120     121      journal             Q1  Language and Linguistics  \n13           129     130      journal             Q1  Linguistics and Language  \n14           121     122      journal             Q1  Language and Linguistics  \n15           131     132      journal             Q1  Linguistics and Language  \n16           191     192      journal             Q2  Linguistics and Language  ",
      "text/html": "<div>\n<style scoped>\n    .dataframe tbody tr th:only-of-type {\n        vertical-align: middle;\n    }\n\n    .dataframe tbody tr th {\n        vertical-align: top;\n    }\n\n    .dataframe thead th {\n        text-align: right;\n    }\n</style>\n<table border=\"1\" class=\"dataframe\">\n  <thead>\n    <tr style=\"text-align: right;\">\n      <th></th>\n      <th>Unnamed: 0_x</th>\n      <th>Rank_x</th>\n      <th>Title</th>\n      <th>Type_x</th>\n      <th>SJR Quartile_x</th>\n      <th>Area_x</th>\n      <th>Unnamed: 0_y</th>\n      <th>Rank_y</th>\n      <th>Type_y</th>\n      <th>SJR Quartile_y</th>\n      <th>Area_y</th>\n    </tr>\n  </thead>\n  <tbody>\n    <tr>\n      <th>0</th>\n      <td>53</td>\n      <td>54</td>\n      <td>Computer Assisted Language Learning</td>\n      <td>journal</td>\n      <td>Q1</td>\n      <td>Computer Science Applications</td>\n      <td>22</td>\n      <td>23</td>\n      <td>journal</td>\n      <td>Q1</td>\n      <td>Language and Linguistics</td>\n    </tr>\n    <tr>\n      <th>1</th>\n      <td>53</td>\n      <td>54</td>\n      <td>Computer Assisted Language Learning</td>\n      <td>journal</td>\n      <td>Q1</td>\n      <td>Computer Science Applications</td>\n      <td>26</td>\n      <td>27</td>\n      <td>journal</td>\n      <td>Q1</td>\n      <td>Linguistics and Language</td>\n    </tr>\n    <tr>\n      <th>2</th>\n      <td>68</td>\n      <td>69</td>\n      <td>Language Learning and Technology</td>\n      <td>journal</td>\n      <td>Q1</td>\n      <td>Computer Science Applications</td>\n      <td>28</td>\n      <td>29</td>\n      <td>journal</td>\n      <td>Q1</td>\n      <td>Language and Linguistics</td>\n    </tr>\n    <tr>\n      <th>3</th>\n      <td>68</td>\n      <td>69</td>\n      <td>Language Learning and Technology</td>\n      <td>journal</td>\n      <td>Q1</td>\n      <td>Computer Science Applications</td>\n      <td>31</td>\n      <td>32</td>\n      <td>journal</td>\n      <td>Q1</td>\n      <td>Linguistics and Language</td>\n    </tr>\n    <tr>\n      <th>4</th>\n      <td>80</td>\n      <td>81</td>\n      <td>ReCALL</td>\n      <td>journal</td>\n      <td>Q1</td>\n      <td>Computer Science Applications</td>\n      <td>34</td>\n      <td>35</td>\n      <td>journal</td>\n      <td>Q1</td>\n      <td>Language and Linguistics</td>\n    </tr>\n    <tr>\n      <th>5</th>\n      <td>80</td>\n      <td>81</td>\n      <td>ReCALL</td>\n      <td>journal</td>\n      <td>Q1</td>\n      <td>Computer Science Applications</td>\n      <td>40</td>\n      <td>41</td>\n      <td>journal</td>\n      <td>Q1</td>\n      <td>Linguistics and Language</td>\n    </tr>\n    <tr>\n      <th>6</th>\n      <td>210</td>\n      <td>211</td>\n      <td>Synthesis Lectures on Human Language Technologies</td>\n      <td>book series</td>\n      <td>Q2</td>\n      <td>Computer Science Applications</td>\n      <td>119</td>\n      <td>120</td>\n      <td>book series</td>\n      <td>Q1</td>\n      <td>Linguistics and Language</td>\n    </tr>\n    <tr>\n      <th>7</th>\n      <td>263</td>\n      <td>264</td>\n      <td>Speech Communication</td>\n      <td>journal</td>\n      <td>Q2</td>\n      <td>Computer Science Applications</td>\n      <td>127</td>\n      <td>128</td>\n      <td>journal</td>\n      <td>Q1</td>\n      <td>Language and Linguistics</td>\n    </tr>\n    <tr>\n      <th>8</th>\n      <td>263</td>\n      <td>264</td>\n      <td>Speech Communication</td>\n      <td>journal</td>\n      <td>Q2</td>\n      <td>Computer Science Applications</td>\n      <td>139</td>\n      <td>140</td>\n      <td>journal</td>\n      <td>Q1</td>\n      <td>Linguistics and Language</td>\n    </tr>\n    <tr>\n      <th>9</th>\n      <td>296</td>\n      <td>297</td>\n      <td>Computational Linguistics</td>\n      <td>journal</td>\n      <td>Q2</td>\n      <td>Computer Science Applications</td>\n      <td>137</td>\n      <td>138</td>\n      <td>journal</td>\n      <td>Q1</td>\n      <td>Language and Linguistics</td>\n    </tr>\n    <tr>\n      <th>10</th>\n      <td>296</td>\n      <td>297</td>\n      <td>Computational Linguistics</td>\n      <td>journal</td>\n      <td>Q2</td>\n      <td>Computer Science Applications</td>\n      <td>149</td>\n      <td>150</td>\n      <td>journal</td>\n      <td>Q1</td>\n      <td>Linguistics and Language</td>\n    </tr>\n    <tr>\n      <th>11</th>\n      <td>311</td>\n      <td>312</td>\n      <td>Argument and Computation</td>\n      <td>journal</td>\n      <td>Q2</td>\n      <td>Computer Science Applications</td>\n      <td>156</td>\n      <td>157</td>\n      <td>journal</td>\n      <td>Q1</td>\n      <td>Linguistics and Language</td>\n    </tr>\n    <tr>\n      <th>12</th>\n      <td>55</td>\n      <td>56</td>\n      <td>Computers and Composition</td>\n      <td>journal</td>\n      <td>Q1</td>\n      <td>Computer Science (miscellaneous)</td>\n      <td>120</td>\n      <td>121</td>\n      <td>journal</td>\n      <td>Q1</td>\n      <td>Language and Linguistics</td>\n    </tr>\n    <tr>\n      <th>13</th>\n      <td>55</td>\n      <td>56</td>\n      <td>Computers and Composition</td>\n      <td>journal</td>\n      <td>Q1</td>\n      <td>Computer Science (miscellaneous)</td>\n      <td>129</td>\n      <td>130</td>\n      <td>journal</td>\n      <td>Q1</td>\n      <td>Linguistics and Language</td>\n    </tr>\n    <tr>\n      <th>14</th>\n      <td>58</td>\n      <td>59</td>\n      <td>Applied Ontology</td>\n      <td>journal</td>\n      <td>Q1</td>\n      <td>Computer Science (miscellaneous)</td>\n      <td>121</td>\n      <td>122</td>\n      <td>journal</td>\n      <td>Q1</td>\n      <td>Language and Linguistics</td>\n    </tr>\n    <tr>\n      <th>15</th>\n      <td>58</td>\n      <td>59</td>\n      <td>Applied Ontology</td>\n      <td>journal</td>\n      <td>Q1</td>\n      <td>Computer Science (miscellaneous)</td>\n      <td>131</td>\n      <td>132</td>\n      <td>journal</td>\n      <td>Q1</td>\n      <td>Linguistics and Language</td>\n    </tr>\n    <tr>\n      <th>16</th>\n      <td>107</td>\n      <td>108</td>\n      <td>Journal of Logic, Language and Information</td>\n      <td>journal</td>\n      <td>Q2</td>\n      <td>Computer Science (miscellaneous)</td>\n      <td>191</td>\n      <td>192</td>\n      <td>journal</td>\n      <td>Q2</td>\n      <td>Linguistics and Language</td>\n    </tr>\n  </tbody>\n</table>\n</div>"
     },
     "metadata": {},
     "execution_count": 52
    }
   ],
   "source": [
    "s1"
   ]
  }
 ],
 "metadata": {
  "kernelspec": {
   "display_name": "Python 3",
   "language": "python",
   "name": "python3"
  },
  "language_info": {
   "codemirror_mode": {
    "name": "ipython",
    "version": 3
   },
   "file_extension": ".py",
   "mimetype": "text/x-python",
   "name": "python",
   "nbconvert_exporter": "python",
   "pygments_lexer": "ipython3",
   "version": "3.6.8-final"
  }
 },
 "nbformat": 4,
 "nbformat_minor": 4
}