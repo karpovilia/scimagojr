{
 "cells": [
  {
   "cell_type": "code",
   "execution_count": 152,
   "metadata": {},
   "outputs": [],
   "source": [
    "import pandas as pd\n",
    "import requests\n",
    "from io import StringIO"
   ]
  },
  {
   "cell_type": "code",
   "execution_count": 153,
   "metadata": {},
   "outputs": [],
   "source": [
    "response = requests.get('https://dl.dropbox.com/s/06ni77wvrhukth3/scimagojr_full_2020-03-31.csv')\n",
    "content = StringIO(response.content.decode(\"utf8\"))\n",
    "df = pd.read_table(content, sep=\";\")\n",
    "df['Quartile'] = df.apply(lambda row: 4 if row['SJR Quartile'] == '-' else int(row['SJR Quartile'][1]), axis = 1)\n",
    "\n",
    "df.drop(['Unnamed: 0', 'Rank', 'Sourceid', 'Issn', 'SJR', 'SJR Quartile',\n",
    " 'H index', 'Total Docs. (2018)', 'Total Docs. (3years)', 'Total Refs.',\n",
    " 'Total Cites (3years)', 'Citable Docs. (3years)', 'Cites / Doc. (2years)',\n",
    " 'Ref. / Doc.', 'Country', 'Publisher', 'Coverage', 'Categories'], axis=1, inplace=True)"
   ]
  },
  {
   "cell_type": "code",
   "execution_count": 154,
   "metadata": {},
   "outputs": [
    {
     "output_type": "stream",
     "name": "stdout",
     "text": "['Title' 'Type' 'Area' 'Quartile']\n"
    },
    {
     "output_type": "execute_result",
     "data": {
      "text/plain": "                                                   Title  \\\n16787                                            CALL-EJ   \n45892                                         Erga-Logoi   \n33095                                 Estudos Feministas   \n12051                  Psicologia Clinica dello Sviluppo   \n21425                           Settler Colonial Studies   \n13664  SKY 2016 - 7th International Workshop on Softw...   \n61620                                        Mycobiology   \n28870              African Journal of Emergency Medicine   \n56516    Revista Brasileira de Ginecologia e Obstetricia   \n60175                               Culture and Religion   \n\n                             Type  \\\n16787                     journal   \n45892                     journal   \n33095                     journal   \n12051                     journal   \n21425                     journal   \n13664  conference and proceedings   \n61620                     journal   \n28870                     journal   \n56516                     journal   \n60175                     journal   \n\n                                              Area  Quartile  \n16787                Computer Science Applications         4  \n45892               Literature and Literary Theory         4  \n33095                               Gender Studies         3  \n12051                          Clinical Psychology         4  \n21425                                   Demography         2  \n13664  Computer Graphics and Computer-Aided Design         4  \n61620                                Plant Science         2  \n28870                           Emergency Medicine         2  \n56516                    Obstetrics and Gynecology         3  \n60175                                   Philosophy         2  ",
      "text/html": "<div>\n<style scoped>\n    .dataframe tbody tr th:only-of-type {\n        vertical-align: middle;\n    }\n\n    .dataframe tbody tr th {\n        vertical-align: top;\n    }\n\n    .dataframe thead th {\n        text-align: right;\n    }\n</style>\n<table border=\"1\" class=\"dataframe\">\n  <thead>\n    <tr style=\"text-align: right;\">\n      <th></th>\n      <th>Title</th>\n      <th>Type</th>\n      <th>Area</th>\n      <th>Quartile</th>\n    </tr>\n  </thead>\n  <tbody>\n    <tr>\n      <th>16787</th>\n      <td>CALL-EJ</td>\n      <td>journal</td>\n      <td>Computer Science Applications</td>\n      <td>4</td>\n    </tr>\n    <tr>\n      <th>45892</th>\n      <td>Erga-Logoi</td>\n      <td>journal</td>\n      <td>Literature and Literary Theory</td>\n      <td>4</td>\n    </tr>\n    <tr>\n      <th>33095</th>\n      <td>Estudos Feministas</td>\n      <td>journal</td>\n      <td>Gender Studies</td>\n      <td>3</td>\n    </tr>\n    <tr>\n      <th>12051</th>\n      <td>Psicologia Clinica dello Sviluppo</td>\n      <td>journal</td>\n      <td>Clinical Psychology</td>\n      <td>4</td>\n    </tr>\n    <tr>\n      <th>21425</th>\n      <td>Settler Colonial Studies</td>\n      <td>journal</td>\n      <td>Demography</td>\n      <td>2</td>\n    </tr>\n    <tr>\n      <th>13664</th>\n      <td>SKY 2016 - 7th International Workshop on Softw...</td>\n      <td>conference and proceedings</td>\n      <td>Computer Graphics and Computer-Aided Design</td>\n      <td>4</td>\n    </tr>\n    <tr>\n      <th>61620</th>\n      <td>Mycobiology</td>\n      <td>journal</td>\n      <td>Plant Science</td>\n      <td>2</td>\n    </tr>\n    <tr>\n      <th>28870</th>\n      <td>African Journal of Emergency Medicine</td>\n      <td>journal</td>\n      <td>Emergency Medicine</td>\n      <td>2</td>\n    </tr>\n    <tr>\n      <th>56516</th>\n      <td>Revista Brasileira de Ginecologia e Obstetricia</td>\n      <td>journal</td>\n      <td>Obstetrics and Gynecology</td>\n      <td>3</td>\n    </tr>\n    <tr>\n      <th>60175</th>\n      <td>Culture and Religion</td>\n      <td>journal</td>\n      <td>Philosophy</td>\n      <td>2</td>\n    </tr>\n  </tbody>\n</table>\n</div>"
     },
     "metadata": {},
     "execution_count": 154
    }
   ],
   "source": [
    "print(df.columns.values)\n",
    "df.sample(10)"
   ]
  },
  {
   "cell_type": "code",
   "execution_count": 155,
   "metadata": {},
   "outputs": [
    {
     "output_type": "stream",
     "name": "stderr",
     "text": "/home/jupyter_notebook/venv/lib/python3.6/site-packages/ipykernel_launcher.py:3: SettingWithCopyWarning: \nA value is trying to be set on a copy of a slice from a DataFrame.\nTry using .loc[row_indexer,col_indexer] = value instead\n\nSee the caveats in the documentation: http://pandas.pydata.org/pandas-docs/stable/user_guide/indexing.html#returning-a-view-versus-a-copy\n  This is separate from the ipykernel package so we can avoid doing imports until\n/home/jupyter_notebook/venv/lib/python3.6/site-packages/ipykernel_launcher.py:6: SettingWithCopyWarning: \nA value is trying to be set on a copy of a slice from a DataFrame.\nTry using .loc[row_indexer,col_indexer] = value instead\n\nSee the caveats in the documentation: http://pandas.pydata.org/pandas-docs/stable/user_guide/indexing.html#returning-a-view-versus-a-copy\n  \n"
    }
   ],
   "source": [
    "# df_cs = df.loc[df['Area'].str.contains('computer science', case = False, regex = False) & df['SJR Quartile'].str.contains('Q1|Q2')]\n",
    "df_cs = df.loc[df['Area'].str.contains('Computer Science', case = False, regex = False)]\n",
    "df_cs['Area'] = 'Computer Science'\n",
    "# df_ling = df.loc[df['Area'].str.contains('linguistics', case = False, regex = False) & (df['SJR Quartile'].str.contains('Q1|Q2'))]\n",
    "df_ling = df.loc[df['Area'].str.contains('Linguistics', case = False, regex = False)]\n",
    "df_ling['Area'] = 'Linguistics'"
   ]
  },
  {
   "cell_type": "code",
   "execution_count": 156,
   "metadata": {},
   "outputs": [
    {
     "output_type": "execute_result",
     "data": {
      "text/plain": "                                                   Quartile_ling      \\\n                                                             min max   \nTitle                                                                  \n2009 IEEE International Technology Management C...             4   4   \n2015 5th International Conference on Digital In...             4   4   \n2015 IEEE 7th International Workshop on Managin...             4   4   \n2015 IEEE Conference on Wireless Sensors, ICWiS...             4   4   \n2015 IRCOBI Conference Proceedings - Internatio...             4   4   \n2015 International Symposium on Intelligent Sig...             4   4   \nACM International Conference Proceeding Series                 4   4   \nApplied Ontology                                               1   1   \nArgument and Computation                                       1   1   \nCALL-EJ                                                        2   2   \nComputational Linguistics                                      1   1   \nComputational Linguistics in the Netherlands Jo...             4   4   \nComputer Assisted Language Learning                            1   1   \nComputers and Composition                                      1   1   \nDigital Scholarship in the Humanities                          2   2   \nICCSE 2016 - 11th International Conference on C...             4   4   \nInternational Journal of Computer-Assisted Lang...             2   2   \nJALT CALL Journal                                              2   2   \nJournal of Logic, Language and Information                     2   2   \nJournal of Visual Languages and Computing                      2   2   \nKomp'juternaja Lingvistika i Intellektual'nye T...             4   4   \nLanguage Documentation and Conservation                        1   1   \nLanguage Learning and Technology                               1   1   \nPerspective Technologies and Methods in MEMS De...             4   4   \nPragmatics and Cognition                                       2   2   \nProceedings of 2016 8th International Conferenc...             4   4   \nProcesamiento de Lenguaje Natural                              2   2   \nReCALL                                                         1   1   \nSpeech Communication                                           1   1   \nSynthesis Lectures on Human Language Technologies              1   1   \nTAL Traitement Automatique des Langues                         3   3   \nTexto Livre                                                    4   4   \n\n                                                   Quartile_cs      \n                                                           min max  \nTitle                                                               \n2009 IEEE International Technology Management C...           4   4  \n2015 5th International Conference on Digital In...           4   4  \n2015 IEEE 7th International Workshop on Managin...           4   4  \n2015 IEEE Conference on Wireless Sensors, ICWiS...           4   4  \n2015 IRCOBI Conference Proceedings - Internatio...           4   4  \n2015 International Symposium on Intelligent Sig...           4   4  \nACM International Conference Proceeding Series               4   4  \nApplied Ontology                                             1   1  \nArgument and Computation                                     2   2  \nCALL-EJ                                                      4   4  \nComputational Linguistics                                    2   2  \nComputational Linguistics in the Netherlands Jo...           4   4  \nComputer Assisted Language Learning                          1   1  \nComputers and Composition                                    1   1  \nDigital Scholarship in the Humanities                        3   3  \nICCSE 2016 - 11th International Conference on C...           4   4  \nInternational Journal of Computer-Assisted Lang...           4   4  \nJALT CALL Journal                                            4   4  \nJournal of Logic, Language and Information                   2   2  \nJournal of Visual Languages and Computing                    3   3  \nKomp'juternaja Lingvistika i Intellektual'nye T...           4   4  \nLanguage Documentation and Conservation                      3   3  \nLanguage Learning and Technology                             1   1  \nPerspective Technologies and Methods in MEMS De...           4   4  \nPragmatics and Cognition                                     3   3  \nProceedings of 2016 8th International Conferenc...           4   4  \nProcesamiento de Lenguaje Natural                            3   3  \nReCALL                                                       1   1  \nSpeech Communication                                         2   2  \nSynthesis Lectures on Human Language Technologies            2   2  \nTAL Traitement Automatique des Langues                       4   4  \nTexto Livre                                                  4   4  ",
      "text/html": "<div>\n<style scoped>\n    .dataframe tbody tr th:only-of-type {\n        vertical-align: middle;\n    }\n\n    .dataframe tbody tr th {\n        vertical-align: top;\n    }\n\n    .dataframe thead tr th {\n        text-align: left;\n    }\n\n    .dataframe thead tr:last-of-type th {\n        text-align: right;\n    }\n</style>\n<table border=\"1\" class=\"dataframe\">\n  <thead>\n    <tr>\n      <th></th>\n      <th colspan=\"2\" halign=\"left\">Quartile_ling</th>\n      <th colspan=\"2\" halign=\"left\">Quartile_cs</th>\n    </tr>\n    <tr>\n      <th></th>\n      <th>min</th>\n      <th>max</th>\n      <th>min</th>\n      <th>max</th>\n    </tr>\n    <tr>\n      <th>Title</th>\n      <th></th>\n      <th></th>\n      <th></th>\n      <th></th>\n    </tr>\n  </thead>\n  <tbody>\n    <tr>\n      <th>2009 IEEE International Technology Management Conference, ICE 2009</th>\n      <td>4</td>\n      <td>4</td>\n      <td>4</td>\n      <td>4</td>\n    </tr>\n    <tr>\n      <th>2015 5th International Conference on Digital Information Processing and Communications, ICDIPC 2015</th>\n      <td>4</td>\n      <td>4</td>\n      <td>4</td>\n      <td>4</td>\n    </tr>\n    <tr>\n      <th>2015 IEEE 7th International Workshop on Managing Technical Debt, MTD 2015 - Proceedings</th>\n      <td>4</td>\n      <td>4</td>\n      <td>4</td>\n      <td>4</td>\n    </tr>\n    <tr>\n      <th>2015 IEEE Conference on Wireless Sensors, ICWiSE 2015</th>\n      <td>4</td>\n      <td>4</td>\n      <td>4</td>\n      <td>4</td>\n    </tr>\n    <tr>\n      <th>2015 IRCOBI Conference Proceedings - International Research Council on the Biomechanics of Injury</th>\n      <td>4</td>\n      <td>4</td>\n      <td>4</td>\n      <td>4</td>\n    </tr>\n    <tr>\n      <th>2015 International Symposium on Intelligent Signal Processing and Communication Systems, ISPACS 2015</th>\n      <td>4</td>\n      <td>4</td>\n      <td>4</td>\n      <td>4</td>\n    </tr>\n    <tr>\n      <th>ACM International Conference Proceeding Series</th>\n      <td>4</td>\n      <td>4</td>\n      <td>4</td>\n      <td>4</td>\n    </tr>\n    <tr>\n      <th>Applied Ontology</th>\n      <td>1</td>\n      <td>1</td>\n      <td>1</td>\n      <td>1</td>\n    </tr>\n    <tr>\n      <th>Argument and Computation</th>\n      <td>1</td>\n      <td>1</td>\n      <td>2</td>\n      <td>2</td>\n    </tr>\n    <tr>\n      <th>CALL-EJ</th>\n      <td>2</td>\n      <td>2</td>\n      <td>4</td>\n      <td>4</td>\n    </tr>\n    <tr>\n      <th>Computational Linguistics</th>\n      <td>1</td>\n      <td>1</td>\n      <td>2</td>\n      <td>2</td>\n    </tr>\n    <tr>\n      <th>Computational Linguistics in the Netherlands Journal</th>\n      <td>4</td>\n      <td>4</td>\n      <td>4</td>\n      <td>4</td>\n    </tr>\n    <tr>\n      <th>Computer Assisted Language Learning</th>\n      <td>1</td>\n      <td>1</td>\n      <td>1</td>\n      <td>1</td>\n    </tr>\n    <tr>\n      <th>Computers and Composition</th>\n      <td>1</td>\n      <td>1</td>\n      <td>1</td>\n      <td>1</td>\n    </tr>\n    <tr>\n      <th>Digital Scholarship in the Humanities</th>\n      <td>2</td>\n      <td>2</td>\n      <td>3</td>\n      <td>3</td>\n    </tr>\n    <tr>\n      <th>ICCSE 2016 - 11th International Conference on Computer Science and Education</th>\n      <td>4</td>\n      <td>4</td>\n      <td>4</td>\n      <td>4</td>\n    </tr>\n    <tr>\n      <th>International Journal of Computer-Assisted Language Learning and Teaching</th>\n      <td>2</td>\n      <td>2</td>\n      <td>4</td>\n      <td>4</td>\n    </tr>\n    <tr>\n      <th>JALT CALL Journal</th>\n      <td>2</td>\n      <td>2</td>\n      <td>4</td>\n      <td>4</td>\n    </tr>\n    <tr>\n      <th>Journal of Logic, Language and Information</th>\n      <td>2</td>\n      <td>2</td>\n      <td>2</td>\n      <td>2</td>\n    </tr>\n    <tr>\n      <th>Journal of Visual Languages and Computing</th>\n      <td>2</td>\n      <td>2</td>\n      <td>3</td>\n      <td>3</td>\n    </tr>\n    <tr>\n      <th>Komp'juternaja Lingvistika i Intellektual'nye Tehnologii</th>\n      <td>4</td>\n      <td>4</td>\n      <td>4</td>\n      <td>4</td>\n    </tr>\n    <tr>\n      <th>Language Documentation and Conservation</th>\n      <td>1</td>\n      <td>1</td>\n      <td>3</td>\n      <td>3</td>\n    </tr>\n    <tr>\n      <th>Language Learning and Technology</th>\n      <td>1</td>\n      <td>1</td>\n      <td>1</td>\n      <td>1</td>\n    </tr>\n    <tr>\n      <th>Perspective Technologies and Methods in MEMS Design, MEMSTECH 2015 - Proceedings of 11th International Conference</th>\n      <td>4</td>\n      <td>4</td>\n      <td>4</td>\n      <td>4</td>\n    </tr>\n    <tr>\n      <th>Pragmatics and Cognition</th>\n      <td>2</td>\n      <td>2</td>\n      <td>3</td>\n      <td>3</td>\n    </tr>\n    <tr>\n      <th>Proceedings of 2016 8th International Conference on Information Technology and Electrical Engineering: Empowering Technology for Better Future, ICITEE 2016</th>\n      <td>4</td>\n      <td>4</td>\n      <td>4</td>\n      <td>4</td>\n    </tr>\n    <tr>\n      <th>Procesamiento de Lenguaje Natural</th>\n      <td>2</td>\n      <td>2</td>\n      <td>3</td>\n      <td>3</td>\n    </tr>\n    <tr>\n      <th>ReCALL</th>\n      <td>1</td>\n      <td>1</td>\n      <td>1</td>\n      <td>1</td>\n    </tr>\n    <tr>\n      <th>Speech Communication</th>\n      <td>1</td>\n      <td>1</td>\n      <td>2</td>\n      <td>2</td>\n    </tr>\n    <tr>\n      <th>Synthesis Lectures on Human Language Technologies</th>\n      <td>1</td>\n      <td>1</td>\n      <td>2</td>\n      <td>2</td>\n    </tr>\n    <tr>\n      <th>TAL Traitement Automatique des Langues</th>\n      <td>3</td>\n      <td>3</td>\n      <td>4</td>\n      <td>4</td>\n    </tr>\n    <tr>\n      <th>Texto Livre</th>\n      <td>4</td>\n      <td>4</td>\n      <td>4</td>\n      <td>4</td>\n    </tr>\n  </tbody>\n</table>\n</div>"
     },
     "metadata": {},
     "execution_count": 156
    }
   ],
   "source": [
    "ling_cs = pd.merge(df_cs, df_ling, how='inner', on=['Title', 'Type'],  suffixes=('_cs', '_ling'))\n",
    "ling_cs = ling_cs.groupby('Title').agg({'Quartile_ling': ['min', 'max'], 'Quartile_cs': ['min', 'max']})\n",
    "ling_cs\n",
    ""
   ]
  },
  {
   "cell_type": "code",
   "execution_count": 157,
   "metadata": {},
   "outputs": [],
   "source": [
    "s1.to_csv('res.csv', sep=\";\")"
   ]
  }
 ],
 "metadata": {
  "kernelspec": {
   "display_name": "Python 3",
   "language": "python",
   "name": "python3"
  },
  "language_info": {
   "codemirror_mode": {
    "name": "ipython",
    "version": 3
   },
   "file_extension": ".py",
   "mimetype": "text/x-python",
   "name": "python",
   "nbconvert_exporter": "python",
   "pygments_lexer": "ipython3",
   "version": "3.6.8-final"
  }
 },
 "nbformat": 4,
 "nbformat_minor": 4
}