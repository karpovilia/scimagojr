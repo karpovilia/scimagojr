{
 "cells": [
  {
   "cell_type": "code",
   "execution_count": 61,
   "metadata": {},
   "outputs": [],
   "source": [
    "import pandas as pd\n",
    "import requests\n",
    "from io import StringIO"
   ]
  },
  {
   "cell_type": "code",
   "execution_count": 62,
   "metadata": {},
   "outputs": [],
   "source": [
    "response = requests.get('https://dl.dropbox.com/s/06ni77wvrhukth3/scimagojr_full_2020-03-31.csv')\n",
    "content = StringIO(response.content.decode(\"utf8\"))\n",
    "df = pd.read_table(content, sep=\";\")\n",
    "\n",
    "df.drop(['Sourceid', 'Issn', 'SJR',\n",
    " 'H index', 'Total Docs. (2018)', 'Total Docs. (3years)', 'Total Refs.',\n",
    " 'Total Cites (3years)', 'Citable Docs. (3years)', 'Cites / Doc. (2years)',\n",
    " 'Ref. / Doc.', 'Country', 'Publisher', 'Coverage', 'Categories'], axis=1, inplace=True)"
   ]
  },
  {
   "cell_type": "code",
   "execution_count": 63,
   "metadata": {},
   "outputs": [
    {
     "output_type": "stream",
     "name": "stdout",
     "text": "['Unnamed: 0' 'Rank' 'Title' 'Type' 'SJR Quartile' 'Area']\n"
    },
    {
     "output_type": "execute_result",
     "data": {
      "text/plain": "       Unnamed: 0  Rank                                              Title  \\\n64584          34    35                                         Ultrasound   \n57939          55    56                                               Knee   \n46722         212   213  Society of Petroleum Engineers - SPE Russian P...   \n1933          204   205                         Journal of Poultry Science   \n13401          14    15  WWW 2015 - Proceedings of the 24th Internation...   \n54946           4     5                                 Ecosystem Services   \n15893        2172  2173  Education Division 2015 - Core Programming Are...   \n16330         413   414                            Entertainment Computing   \n66251         146   147                                        Kerntechnik   \n31494          11    12                       Emerging Infectious Diseases   \n\n                             Type SJR Quartile  \\\n64584                     journal           Q3   \n57939                     journal           Q1   \n46722  conference and proceedings            -   \n1933                      journal           Q3   \n13401  conference and proceedings            -   \n54946                     journal           Q1   \n15893  conference and proceedings            -   \n16330                     journal           Q3   \n66251                     journal           Q3   \n31494                     journal           Q1   \n\n                                              Area  \n64584       Radiological and Ultrasound Technology  \n57939              Orthopedics and Sports Medicine  \n46722      Management of Technology and Innovation  \n1933                    Animal Science and Zoology  \n13401  Computer Graphics and Computer-Aided Design  \n54946            Nature and Landscape Conservation  \n15893         Computer Networks and Communications  \n16330                Computer Science Applications  \n66251        Safety, Risk, Reliability and Quality  \n31494                                 Epidemiology  ",
      "text/html": "<div>\n<style scoped>\n    .dataframe tbody tr th:only-of-type {\n        vertical-align: middle;\n    }\n\n    .dataframe tbody tr th {\n        vertical-align: top;\n    }\n\n    .dataframe thead th {\n        text-align: right;\n    }\n</style>\n<table border=\"1\" class=\"dataframe\">\n  <thead>\n    <tr style=\"text-align: right;\">\n      <th></th>\n      <th>Unnamed: 0</th>\n      <th>Rank</th>\n      <th>Title</th>\n      <th>Type</th>\n      <th>SJR Quartile</th>\n      <th>Area</th>\n    </tr>\n  </thead>\n  <tbody>\n    <tr>\n      <th>64584</th>\n      <td>34</td>\n      <td>35</td>\n      <td>Ultrasound</td>\n      <td>journal</td>\n      <td>Q3</td>\n      <td>Radiological and Ultrasound Technology</td>\n    </tr>\n    <tr>\n      <th>57939</th>\n      <td>55</td>\n      <td>56</td>\n      <td>Knee</td>\n      <td>journal</td>\n      <td>Q1</td>\n      <td>Orthopedics and Sports Medicine</td>\n    </tr>\n    <tr>\n      <th>46722</th>\n      <td>212</td>\n      <td>213</td>\n      <td>Society of Petroleum Engineers - SPE Russian P...</td>\n      <td>conference and proceedings</td>\n      <td>-</td>\n      <td>Management of Technology and Innovation</td>\n    </tr>\n    <tr>\n      <th>1933</th>\n      <td>204</td>\n      <td>205</td>\n      <td>Journal of Poultry Science</td>\n      <td>journal</td>\n      <td>Q3</td>\n      <td>Animal Science and Zoology</td>\n    </tr>\n    <tr>\n      <th>13401</th>\n      <td>14</td>\n      <td>15</td>\n      <td>WWW 2015 - Proceedings of the 24th Internation...</td>\n      <td>conference and proceedings</td>\n      <td>-</td>\n      <td>Computer Graphics and Computer-Aided Design</td>\n    </tr>\n    <tr>\n      <th>54946</th>\n      <td>4</td>\n      <td>5</td>\n      <td>Ecosystem Services</td>\n      <td>journal</td>\n      <td>Q1</td>\n      <td>Nature and Landscape Conservation</td>\n    </tr>\n    <tr>\n      <th>15893</th>\n      <td>2172</td>\n      <td>2173</td>\n      <td>Education Division 2015 - Core Programming Are...</td>\n      <td>conference and proceedings</td>\n      <td>-</td>\n      <td>Computer Networks and Communications</td>\n    </tr>\n    <tr>\n      <th>16330</th>\n      <td>413</td>\n      <td>414</td>\n      <td>Entertainment Computing</td>\n      <td>journal</td>\n      <td>Q3</td>\n      <td>Computer Science Applications</td>\n    </tr>\n    <tr>\n      <th>66251</th>\n      <td>146</td>\n      <td>147</td>\n      <td>Kerntechnik</td>\n      <td>journal</td>\n      <td>Q3</td>\n      <td>Safety, Risk, Reliability and Quality</td>\n    </tr>\n    <tr>\n      <th>31494</th>\n      <td>11</td>\n      <td>12</td>\n      <td>Emerging Infectious Diseases</td>\n      <td>journal</td>\n      <td>Q1</td>\n      <td>Epidemiology</td>\n    </tr>\n  </tbody>\n</table>\n</div>"
     },
     "metadata": {},
     "execution_count": 63
    }
   ],
   "source": [
    "print(df.columns.values)\n",
    "df.sample(10)"
   ]
  },
  {
   "cell_type": "code",
   "execution_count": 64,
   "metadata": {},
   "outputs": [],
   "source": [
    "df_cs = df.loc[df['Area'].str.contains('computer science', case = False, regex = False) & (df['SJR Quartile'].str.contains('Q1|Q2'))]\n",
    "# df_ling = df.loc[df['Area'].str.contains('linguistics', case = False, regex = False) & (df['SJR Quartile'].str.contains('Q1|Q2'))]\n",
    "df_ling = df.loc[df['Area'].str.contains('linguistics', case = False, regex = False)]"
   ]
  },
  {
   "cell_type": "code",
   "execution_count": 65,
   "metadata": {},
   "outputs": [],
   "source": [
    "s1 = pd.merge(df_cs, df_ling, how='inner', on=['Title'])"
   ]
  },
  {
   "cell_type": "code",
   "execution_count": 66,
   "metadata": {},
   "outputs": [
    {
     "output_type": "execute_result",
     "data": {
      "text/plain": "    Unnamed: 0_x  Rank_x                                              Title  \\\n0             53      54                Computer Assisted Language Learning   \n1             53      54                Computer Assisted Language Learning   \n2             68      69                   Language Learning and Technology   \n3             68      69                   Language Learning and Technology   \n4             80      81                                             ReCALL   \n5             80      81                                             ReCALL   \n6            210     211  Synthesis Lectures on Human Language Technologies   \n7            263     264                               Speech Communication   \n8            263     264                               Speech Communication   \n9            296     297                          Computational Linguistics   \n10           296     297                          Computational Linguistics   \n11           311     312                           Argument and Computation   \n12            55      56                          Computers and Composition   \n13            55      56                          Computers and Composition   \n14            58      59                                   Applied Ontology   \n15            58      59                                   Applied Ontology   \n16           107     108         Journal of Logic, Language and Information   \n\n         Type_x SJR Quartile_x                            Area_x  \\\n0       journal             Q1     Computer Science Applications   \n1       journal             Q1     Computer Science Applications   \n2       journal             Q1     Computer Science Applications   \n3       journal             Q1     Computer Science Applications   \n4       journal             Q1     Computer Science Applications   \n5       journal             Q1     Computer Science Applications   \n6   book series             Q2     Computer Science Applications   \n7       journal             Q2     Computer Science Applications   \n8       journal             Q2     Computer Science Applications   \n9       journal             Q2     Computer Science Applications   \n10      journal             Q2     Computer Science Applications   \n11      journal             Q2     Computer Science Applications   \n12      journal             Q1  Computer Science (miscellaneous)   \n13      journal             Q1  Computer Science (miscellaneous)   \n14      journal             Q1  Computer Science (miscellaneous)   \n15      journal             Q1  Computer Science (miscellaneous)   \n16      journal             Q2  Computer Science (miscellaneous)   \n\n    Unnamed: 0_y  Rank_y       Type_y SJR Quartile_y                    Area_y  \n0             22      23      journal             Q1  Language and Linguistics  \n1             26      27      journal             Q1  Linguistics and Language  \n2             28      29      journal             Q1  Language and Linguistics  \n3             31      32      journal             Q1  Linguistics and Language  \n4             34      35      journal             Q1  Language and Linguistics  \n5             40      41      journal             Q1  Linguistics and Language  \n6            119     120  book series             Q1  Linguistics and Language  \n7            127     128      journal             Q1  Language and Linguistics  \n8            139     140      journal             Q1  Linguistics and Language  \n9            137     138      journal             Q1  Language and Linguistics  \n10           149     150      journal             Q1  Linguistics and Language  \n11           156     157      journal             Q1  Linguistics and Language  \n12           120     121      journal             Q1  Language and Linguistics  \n13           129     130      journal             Q1  Linguistics and Language  \n14           121     122      journal             Q1  Language and Linguistics  \n15           131     132      journal             Q1  Linguistics and Language  \n16           191     192      journal             Q2  Linguistics and Language  ",
      "text/html": "<div>\n<style scoped>\n    .dataframe tbody tr th:only-of-type {\n        vertical-align: middle;\n    }\n\n    .dataframe tbody tr th {\n        vertical-align: top;\n    }\n\n    .dataframe thead th {\n        text-align: right;\n    }\n</style>\n<table border=\"1\" class=\"dataframe\">\n  <thead>\n    <tr style=\"text-align: right;\">\n      <th></th>\n      <th>Unnamed: 0_x</th>\n      <th>Rank_x</th>\n      <th>Title</th>\n      <th>Type_x</th>\n      <th>SJR Quartile_x</th>\n      <th>Area_x</th>\n      <th>Unnamed: 0_y</th>\n      <th>Rank_y</th>\n      <th>Type_y</th>\n      <th>SJR Quartile_y</th>\n      <th>Area_y</th>\n    </tr>\n  </thead>\n  <tbody>\n    <tr>\n      <th>0</th>\n      <td>53</td>\n      <td>54</td>\n      <td>Computer Assisted Language Learning</td>\n      <td>journal</td>\n      <td>Q1</td>\n      <td>Computer Science Applications</td>\n      <td>22</td>\n      <td>23</td>\n      <td>journal</td>\n      <td>Q1</td>\n      <td>Language and Linguistics</td>\n    </tr>\n    <tr>\n      <th>1</th>\n      <td>53</td>\n      <td>54</td>\n      <td>Computer Assisted Language Learning</td>\n      <td>journal</td>\n      <td>Q1</td>\n      <td>Computer Science Applications</td>\n      <td>26</td>\n      <td>27</td>\n      <td>journal</td>\n      <td>Q1</td>\n      <td>Linguistics and Language</td>\n    </tr>\n    <tr>\n      <th>2</th>\n      <td>68</td>\n      <td>69</td>\n      <td>Language Learning and Technology</td>\n      <td>journal</td>\n      <td>Q1</td>\n      <td>Computer Science Applications</td>\n      <td>28</td>\n      <td>29</td>\n      <td>journal</td>\n      <td>Q1</td>\n      <td>Language and Linguistics</td>\n    </tr>\n    <tr>\n      <th>3</th>\n      <td>68</td>\n      <td>69</td>\n      <td>Language Learning and Technology</td>\n      <td>journal</td>\n      <td>Q1</td>\n      <td>Computer Science Applications</td>\n      <td>31</td>\n      <td>32</td>\n      <td>journal</td>\n      <td>Q1</td>\n      <td>Linguistics and Language</td>\n    </tr>\n    <tr>\n      <th>4</th>\n      <td>80</td>\n      <td>81</td>\n      <td>ReCALL</td>\n      <td>journal</td>\n      <td>Q1</td>\n      <td>Computer Science Applications</td>\n      <td>34</td>\n      <td>35</td>\n      <td>journal</td>\n      <td>Q1</td>\n      <td>Language and Linguistics</td>\n    </tr>\n    <tr>\n      <th>5</th>\n      <td>80</td>\n      <td>81</td>\n      <td>ReCALL</td>\n      <td>journal</td>\n      <td>Q1</td>\n      <td>Computer Science Applications</td>\n      <td>40</td>\n      <td>41</td>\n      <td>journal</td>\n      <td>Q1</td>\n      <td>Linguistics and Language</td>\n    </tr>\n    <tr>\n      <th>6</th>\n      <td>210</td>\n      <td>211</td>\n      <td>Synthesis Lectures on Human Language Technologies</td>\n      <td>book series</td>\n      <td>Q2</td>\n      <td>Computer Science Applications</td>\n      <td>119</td>\n      <td>120</td>\n      <td>book series</td>\n      <td>Q1</td>\n      <td>Linguistics and Language</td>\n    </tr>\n    <tr>\n      <th>7</th>\n      <td>263</td>\n      <td>264</td>\n      <td>Speech Communication</td>\n      <td>journal</td>\n      <td>Q2</td>\n      <td>Computer Science Applications</td>\n      <td>127</td>\n      <td>128</td>\n      <td>journal</td>\n      <td>Q1</td>\n      <td>Language and Linguistics</td>\n    </tr>\n    <tr>\n      <th>8</th>\n      <td>263</td>\n      <td>264</td>\n      <td>Speech Communication</td>\n      <td>journal</td>\n      <td>Q2</td>\n      <td>Computer Science Applications</td>\n      <td>139</td>\n      <td>140</td>\n      <td>journal</td>\n      <td>Q1</td>\n      <td>Linguistics and Language</td>\n    </tr>\n    <tr>\n      <th>9</th>\n      <td>296</td>\n      <td>297</td>\n      <td>Computational Linguistics</td>\n      <td>journal</td>\n      <td>Q2</td>\n      <td>Computer Science Applications</td>\n      <td>137</td>\n      <td>138</td>\n      <td>journal</td>\n      <td>Q1</td>\n      <td>Language and Linguistics</td>\n    </tr>\n    <tr>\n      <th>10</th>\n      <td>296</td>\n      <td>297</td>\n      <td>Computational Linguistics</td>\n      <td>journal</td>\n      <td>Q2</td>\n      <td>Computer Science Applications</td>\n      <td>149</td>\n      <td>150</td>\n      <td>journal</td>\n      <td>Q1</td>\n      <td>Linguistics and Language</td>\n    </tr>\n    <tr>\n      <th>11</th>\n      <td>311</td>\n      <td>312</td>\n      <td>Argument and Computation</td>\n      <td>journal</td>\n      <td>Q2</td>\n      <td>Computer Science Applications</td>\n      <td>156</td>\n      <td>157</td>\n      <td>journal</td>\n      <td>Q1</td>\n      <td>Linguistics and Language</td>\n    </tr>\n    <tr>\n      <th>12</th>\n      <td>55</td>\n      <td>56</td>\n      <td>Computers and Composition</td>\n      <td>journal</td>\n      <td>Q1</td>\n      <td>Computer Science (miscellaneous)</td>\n      <td>120</td>\n      <td>121</td>\n      <td>journal</td>\n      <td>Q1</td>\n      <td>Language and Linguistics</td>\n    </tr>\n    <tr>\n      <th>13</th>\n      <td>55</td>\n      <td>56</td>\n      <td>Computers and Composition</td>\n      <td>journal</td>\n      <td>Q1</td>\n      <td>Computer Science (miscellaneous)</td>\n      <td>129</td>\n      <td>130</td>\n      <td>journal</td>\n      <td>Q1</td>\n      <td>Linguistics and Language</td>\n    </tr>\n    <tr>\n      <th>14</th>\n      <td>58</td>\n      <td>59</td>\n      <td>Applied Ontology</td>\n      <td>journal</td>\n      <td>Q1</td>\n      <td>Computer Science (miscellaneous)</td>\n      <td>121</td>\n      <td>122</td>\n      <td>journal</td>\n      <td>Q1</td>\n      <td>Language and Linguistics</td>\n    </tr>\n    <tr>\n      <th>15</th>\n      <td>58</td>\n      <td>59</td>\n      <td>Applied Ontology</td>\n      <td>journal</td>\n      <td>Q1</td>\n      <td>Computer Science (miscellaneous)</td>\n      <td>131</td>\n      <td>132</td>\n      <td>journal</td>\n      <td>Q1</td>\n      <td>Linguistics and Language</td>\n    </tr>\n    <tr>\n      <th>16</th>\n      <td>107</td>\n      <td>108</td>\n      <td>Journal of Logic, Language and Information</td>\n      <td>journal</td>\n      <td>Q2</td>\n      <td>Computer Science (miscellaneous)</td>\n      <td>191</td>\n      <td>192</td>\n      <td>journal</td>\n      <td>Q2</td>\n      <td>Linguistics and Language</td>\n    </tr>\n  </tbody>\n</table>\n</div>"
     },
     "metadata": {},
     "execution_count": 66
    }
   ],
   "source": [
    "s1"
   ]
  }
 ],
 "metadata": {
  "kernelspec": {
   "display_name": "Python 3",
   "language": "python",
   "name": "python3"
  },
  "language_info": {
   "codemirror_mode": {
    "name": "ipython",
    "version": 3
   },
   "file_extension": ".py",
   "mimetype": "text/x-python",
   "name": "python",
   "nbconvert_exporter": "python",
   "pygments_lexer": "ipython3",
   "version": "3.6.8-final"
  }
 },
 "nbformat": 4,
 "nbformat_minor": 4
}